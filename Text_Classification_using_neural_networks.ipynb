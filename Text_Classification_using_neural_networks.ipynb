{
  "nbformat": 4,
  "nbformat_minor": 0,
  "metadata": {
    "colab": {
      "name": "Text_Classification_using_neural_networks.ipynb",
      "provenance": []
    },
    "kernelspec": {
      "name": "python3",
      "display_name": "Python 3"
    }
  },
  "cells": [
    {
      "cell_type": "code",
      "metadata": {
        "id": "vjzv1ZlmBbKQ",
        "colab_type": "code",
        "colab": {}
      },
      "source": [
        "# neural network movie review classification"
      ],
      "execution_count": 26,
      "outputs": []
    },
    {
      "cell_type": "code",
      "metadata": {
        "id": "KIUz6GK_Ht_P",
        "colab_type": "code",
        "colab": {}
      },
      "source": [
        "# Clssification of movie reviews whether good or bad"
      ],
      "execution_count": 27,
      "outputs": []
    },
    {
      "cell_type": "code",
      "metadata": {
        "id": "3BBtjnsjHt7K",
        "colab_type": "code",
        "colab": {
          "base_uri": "https://localhost:8080/",
          "height": 34
        },
        "outputId": "736eb633-f09b-43f4-f8dd-40155b1b1eb2"
      },
      "source": [
        "!pip install numpy==1.16.1"
      ],
      "execution_count": 25,
      "outputs": [
        {
          "output_type": "stream",
          "text": [
            "Requirement already satisfied: numpy==1.16.1 in /usr/local/lib/python3.6/dist-packages (1.16.1)\n"
          ],
          "name": "stdout"
        }
      ]
    },
    {
      "cell_type": "code",
      "metadata": {
        "id": "eqVXgnhyBbRl",
        "colab_type": "code",
        "colab": {}
      },
      "source": [
        "# Loading Data\n",
        "# The dataset we will use for these next tutorials is the IMDB movie dataset from keras."
      ],
      "execution_count": 2,
      "outputs": []
    },
    {
      "cell_type": "code",
      "metadata": {
        "id": "nwwDBCiaBbbm",
        "colab_type": "code",
        "colab": {
          "base_uri": "https://localhost:8080/",
          "height": 51
        },
        "outputId": "41a12c04-b192-402f-af5c-a22a74bf38bd"
      },
      "source": [
        "import tensorflow as tf\n",
        "from tensorflow import keras\n",
        "import numpy\n",
        "\n",
        "imdb = keras.datasets.imdb\n",
        "\n",
        "(train_data, train_labels), (test_data, test_labels) = imdb.load_data(num_words=10000)"
      ],
      "execution_count": 3,
      "outputs": [
        {
          "output_type": "stream",
          "text": [
            "Downloading data from https://storage.googleapis.com/tensorflow/tf-keras-datasets/imdb.npz\n",
            "17465344/17464789 [==============================] - 0s 0us/step\n"
          ],
          "name": "stdout"
        }
      ]
    },
    {
      "cell_type": "code",
      "metadata": {
        "id": "Q5bV9usjDxmi",
        "colab_type": "code",
        "colab": {
          "base_uri": "https://localhost:8080/",
          "height": 54
        },
        "outputId": "ed0eb2c1-406a-4890-bae9-8d61ac030364"
      },
      "source": [
        "print(train_data[0])"
      ],
      "execution_count": 5,
      "outputs": [
        {
          "output_type": "stream",
          "text": [
            "[1, 14, 22, 16, 43, 530, 973, 1622, 1385, 65, 458, 4468, 66, 3941, 4, 173, 36, 256, 5, 25, 100, 43, 838, 112, 50, 670, 2, 9, 35, 480, 284, 5, 150, 4, 172, 112, 167, 2, 336, 385, 39, 4, 172, 4536, 1111, 17, 546, 38, 13, 447, 4, 192, 50, 16, 6, 147, 2025, 19, 14, 22, 4, 1920, 4613, 469, 4, 22, 71, 87, 12, 16, 43, 530, 38, 76, 15, 13, 1247, 4, 22, 17, 515, 17, 12, 16, 626, 18, 2, 5, 62, 386, 12, 8, 316, 8, 106, 5, 4, 2223, 5244, 16, 480, 66, 3785, 33, 4, 130, 12, 16, 38, 619, 5, 25, 124, 51, 36, 135, 48, 25, 1415, 33, 6, 22, 12, 215, 28, 77, 52, 5, 14, 407, 16, 82, 2, 8, 4, 107, 117, 5952, 15, 256, 4, 2, 7, 3766, 5, 723, 36, 71, 43, 530, 476, 26, 400, 317, 46, 7, 4, 2, 1029, 13, 104, 88, 4, 381, 15, 297, 98, 32, 2071, 56, 26, 141, 6, 194, 7486, 18, 4, 226, 22, 21, 134, 476, 26, 480, 5, 144, 30, 5535, 18, 51, 36, 28, 224, 92, 25, 104, 4, 226, 65, 16, 38, 1334, 88, 12, 16, 283, 5, 16, 4472, 113, 103, 32, 15, 16, 5345, 19, 178, 32]\n"
          ],
          "name": "stdout"
        }
      ]
    },
    {
      "cell_type": "code",
      "metadata": {
        "id": "zg-G8xbdBb82",
        "colab_type": "code",
        "colab": {}
      },
      "source": [
        "# Integer Encoded Data\n",
        "# Having a look at our data we'll notice that our reviews are integer encoded. This means that each word in our reviews are represented as positive integers where each integer represents a specific word. This is necessary as we cannot pass strings to our neural network. However, if we (as humans) want to be able to read our reviews and see what they look like we'll have to find a way to turn those integer encoded reviews back into strings. The following code will do this for us:"
      ],
      "execution_count": 4,
      "outputs": []
    },
    {
      "cell_type": "code",
      "metadata": {
        "id": "6QTbPK4GBcEo",
        "colab_type": "code",
        "colab": {
          "base_uri": "https://localhost:8080/",
          "height": 51
        },
        "outputId": "28fe3cdd-e93f-4b1d-826f-624ec3bee9bc"
      },
      "source": [
        "# A dictionary mapping words to an integer index\n",
        "word_index = imdb.get_word_index() "
      ],
      "execution_count": 6,
      "outputs": [
        {
          "output_type": "stream",
          "text": [
            "Downloading data from https://storage.googleapis.com/tensorflow/tf-keras-datasets/imdb_word_index.json\n",
            "1646592/1641221 [==============================] - 0s 0us/step\n"
          ],
          "name": "stdout"
        }
      ]
    },
    {
      "cell_type": "code",
      "metadata": {
        "id": "KiXFYsK5BcRN",
        "colab_type": "code",
        "colab": {}
      },
      "source": [
        "word_index = {k:(v+3) for k,v in word_index.items()}\n",
        "word_index[\"<PAD>\"] = 0\n",
        "word_index[\"<START>\"] = 1\n",
        "word_index[\"<UNK>\"] = 2  # unknown\n",
        "word_index[\"<UNUSED>\"] = 3"
      ],
      "execution_count": 8,
      "outputs": []
    },
    {
      "cell_type": "code",
      "metadata": {
        "id": "F_-We8xWBcaU",
        "colab_type": "code",
        "colab": {}
      },
      "source": [
        "reverse_word_index = dict([(value, key) for (key, value) in word_index.items()])"
      ],
      "execution_count": 10,
      "outputs": []
    },
    {
      "cell_type": "code",
      "metadata": {
        "id": "-3Oro8hOBcl-",
        "colab_type": "code",
        "colab": {}
      },
      "source": [
        "def decode_review(text):\n",
        "\treturn \" \".join([reverse_word_index.get(i, \"?\") for i in text])\n",
        "\n",
        "# this function will return the decoded (human readable) reviews "
      ],
      "execution_count": 11,
      "outputs": []
    },
    {
      "cell_type": "code",
      "metadata": {
        "id": "pgvKc2mlBcij",
        "colab_type": "code",
        "colab": {}
      },
      "source": [
        "# We start by getting a dictionary that maps all of our words to an integer, add some more keys to it like , etc. and then reverse that dictionary so we can use integers as keys that map to each word. The function defied will take as a list the integer encoded reviews and return the human readable version."
      ],
      "execution_count": 12,
      "outputs": []
    },
    {
      "cell_type": "code",
      "metadata": {
        "id": "RhzrYtM3FNns",
        "colab_type": "code",
        "colab": {
          "base_uri": "https://localhost:8080/",
          "height": 54
        },
        "outputId": "b14e1c52-7219-4ddd-8111-122b98fec6d9"
      },
      "source": [
        "# lets test it\n",
        "print(decode_review(test_data[1]))"
      ],
      "execution_count": 16,
      "outputs": [
        {
          "output_type": "stream",
          "text": [
            "<START> this film requires a lot of patience because it focuses on mood and character development the plot is very simple and many of the scenes take place on the same set in frances <UNK> the sandy dennis character apartment but the film builds to a disturbing climax br br the characters create an atmosphere <UNK> with sexual tension and psychological <UNK> it's very interesting that robert altman directed this considering the style and structure of his other films still the trademark altman audio style is evident here and there i think what really makes this film work is the brilliant performance by sandy dennis it's definitely one of her darker characters but she plays it so perfectly and convincingly that it's scary michael burns does a good job as the mute young man regular altman player michael murphy has a small part the <UNK> moody set fits the content of the story very well in short this movie is a powerful study of loneliness sexual <UNK> and desperation be patient <UNK> up the atmosphere and pay attention to the wonderfully written script br br i praise robert altman this is one of his many films that deals with unconventional fascinating subject matter this film is disturbing but it's sincere and it's sure to <UNK> a strong emotional response from the viewer if you want to see an unusual film some might even say bizarre this is worth the time br br unfortunately it's very difficult to find in video stores you may have to buy it off the internet\n"
          ],
          "name": "stdout"
        }
      ]
    },
    {
      "cell_type": "code",
      "metadata": {
        "id": "DpJERiPyFsYY",
        "colab_type": "code",
        "colab": {
          "base_uri": "https://localhost:8080/",
          "height": 34
        },
        "outputId": "de20b8c9-0902-425c-cb77-710a9bd17c7d"
      },
      "source": [
        "# lets check the length of diffrent movie reviews \n",
        "print(len(test_data[0]), len(test_data[1]))"
      ],
      "execution_count": 18,
      "outputs": [
        {
          "output_type": "stream",
          "text": [
            "68 260\n"
          ],
          "name": "stdout"
        }
      ]
    },
    {
      "cell_type": "code",
      "metadata": {
        "id": "kgJkkOf3Bcf9",
        "colab_type": "code",
        "colab": {}
      },
      "source": [
        "# Preprocessing Data\n",
        "# If we take a look above at some of our loaded in reviews we'll notice that they are different lengths. This is an issue. We cannot pass different length data into out neural network. Therefore we must make each review the same length. To do this we will follow the procedure below:\n",
        "# - if the review is greater than 250 words(250 we say randomly) then trim off the extra words\n",
        "# - if the review is less than 250 words add the necessary amount of 's to make it equal to 250.\n",
        "\n",
        "# Luckily for us keras has a function that can do this for us:"
      ],
      "execution_count": 20,
      "outputs": []
    },
    {
      "cell_type": "code",
      "metadata": {
        "id": "TrMsiWwMBcXS",
        "colab_type": "code",
        "colab": {}
      },
      "source": [
        "train_data = keras.preprocessing.sequence.pad_sequences(train_data, value=word_index[\"<PAD>\"], padding=\"post\", maxlen=250)\n",
        "test_data = keras.preprocessing.sequence.pad_sequences(test_data, value=word_index[\"<PAD>\"], padding=\"post\", maxlen=250)"
      ],
      "execution_count": 21,
      "outputs": []
    },
    {
      "cell_type": "code",
      "metadata": {
        "id": "6MYFEhyxHLoZ",
        "colab_type": "code",
        "colab": {
          "base_uri": "https://localhost:8080/",
          "height": 34
        },
        "outputId": "c3d4e5b8-9f13-4fad-cc71-814c45425d86"
      },
      "source": [
        "# lets check the length of diffrent movie reviews now \n",
        "print(len(test_data[0]), len(test_data[1]))"
      ],
      "execution_count": 23,
      "outputs": [
        {
          "output_type": "stream",
          "text": [
            "250 250\n"
          ],
          "name": "stdout"
        }
      ]
    },
    {
      "cell_type": "code",
      "metadata": {
        "id": "ItLKWO5xBcNt",
        "colab_type": "code",
        "colab": {}
      },
      "source": [
        "# Defining the Model"
      ],
      "execution_count": 22,
      "outputs": []
    },
    {
      "cell_type": "code",
      "metadata": {
        "id": "X8Vk0mJhBcKP",
        "colab_type": "code",
        "colab": {
          "base_uri": "https://localhost:8080/",
          "height": 289
        },
        "outputId": "7c5cafe0-0bfc-446a-8a9f-cae19e59e81f"
      },
      "source": [
        "model = keras.Sequential()\n",
        "model.add(keras.layers.Embedding(88000, 16))\n",
        "model.add(keras.layers.GlobalAveragePooling1D())\n",
        "model.add(keras.layers.Dense(16, activation=\"relu\"))\n",
        "model.add(keras.layers.Dense(1, activation=\"sigmoid\"))\n",
        "\n",
        "model.summary()  # prints a summary of the model"
      ],
      "execution_count": 24,
      "outputs": [
        {
          "output_type": "stream",
          "text": [
            "Model: \"sequential\"\n",
            "_________________________________________________________________\n",
            "Layer (type)                 Output Shape              Param #   \n",
            "=================================================================\n",
            "embedding (Embedding)        (None, None, 16)          1408000   \n",
            "_________________________________________________________________\n",
            "global_average_pooling1d (Gl (None, 16)                0         \n",
            "_________________________________________________________________\n",
            "dense (Dense)                (None, 16)                272       \n",
            "_________________________________________________________________\n",
            "dense_1 (Dense)              (None, 1)                 17        \n",
            "=================================================================\n",
            "Total params: 1,408,289\n",
            "Trainable params: 1,408,289\n",
            "Non-trainable params: 0\n",
            "_________________________________________________________________\n"
          ],
          "name": "stdout"
        }
      ]
    },
    {
      "cell_type": "code",
      "metadata": {
        "id": "hDQmD6oABcAt",
        "colab_type": "code",
        "colab": {}
      },
      "source": [
        "# word embedding layer\n",
        "# We want a way to determine not only the contents of a sentence but the context of the sentence. A word embedding layer will attempt to determine the meaning of each word in the sentence by mapping each word to a position in vector space."
      ],
      "execution_count": 29,
      "outputs": []
    },
    {
      "cell_type": "code",
      "metadata": {
        "id": "CnYqlC7kIeUa",
        "colab_type": "code",
        "colab": {}
      },
      "source": [
        "# GlobalPooling1D Layer\n",
        "# This layer is nothing special and simply scales down our data's dimension to make it easier computationally for our model in the later layers. Because our word embedding layer maps thousands and thousands of words to a location in vector space they usually do this in a high dimensional vector space. This means when we get our word vectors from the embedding layer they have multiple dimensions and can be scaled down by this layer."
      ],
      "execution_count": 30,
      "outputs": []
    },
    {
      "cell_type": "code",
      "metadata": {
        "id": "AlMa2ITZIedM",
        "colab_type": "code",
        "colab": {}
      },
      "source": [
        "# Dense Layers\n",
        "# The last two layers in our network are dense fully connected layers. The output layer is one neuron that uses the sigmoid function to get a value between a 0 and a 1 which will represent the likelihood of the review being positive or negative. The layer before that contains 16 neurons with a relu activation function designed to find patterns between different words present in the review."
      ],
      "execution_count": 31,
      "outputs": []
    },
    {
      "cell_type": "code",
      "metadata": {
        "id": "w95O_OnZMI0o",
        "colab_type": "code",
        "colab": {}
      },
      "source": [
        "model.compile(optimizer='adam', loss='binary_crossentropy', metrics=['accuracy'])"
      ],
      "execution_count": 33,
      "outputs": []
    },
    {
      "cell_type": "code",
      "metadata": {
        "id": "KhfpXeWiIeaF",
        "colab_type": "code",
        "colab": {}
      },
      "source": [
        "# Validation Data\n",
        "# For this specific model we will introduce a new idea of validation data. In the last tutorial when we trained the models accuracy after each epoch on the current training data, data the model had seen before. This can be problematic as it is highly possible the a model can simply memorize input data and its related output and the accuracy will affect how the model is modified as it trains. So to avoid this issue we will sperate our training data into two sections, training and validation. The model will use the validation data to check accuracy after learning from the training data. This will hopefully result in us avoiding a false confidence for our model.\n",
        "\n",
        "# We can split our training data into validation data like so:"
      ],
      "execution_count": 32,
      "outputs": []
    },
    {
      "cell_type": "code",
      "metadata": {
        "id": "1_3_lt4oIeSR",
        "colab_type": "code",
        "colab": {}
      },
      "source": [
        "x_val = train_data[:10000]\n",
        "x_train = train_data[10000:]\n",
        "\n",
        "y_val = train_labels[:10000]\n",
        "y_train = train_labels[10000:]"
      ],
      "execution_count": 34,
      "outputs": []
    },
    {
      "cell_type": "code",
      "metadata": {
        "id": "bxdrjlHvIeOl",
        "colab_type": "code",
        "colab": {
          "base_uri": "https://localhost:8080/",
          "height": 1000
        },
        "outputId": "cdff8471-e861-44a3-ecb6-6736171eeeab"
      },
      "source": [
        "# training model\n",
        "\n",
        "fitModel = model.fit(x_train, y_train, epochs=40, batch_size=512, validation_data=(x_val, y_val), verbose=1)\n",
        "\n",
        "# i have experimented by tweaking value of epochs but max accuracy came with epoch=40"
      ],
      "execution_count": 37,
      "outputs": [
        {
          "output_type": "stream",
          "text": [
            "Epoch 1/40\n",
            "30/30 [==============================] - 1s 29ms/step - loss: 0.0129 - accuracy: 0.9994 - val_loss: 0.5657 - val_accuracy: 0.8664\n",
            "Epoch 2/40\n",
            "30/30 [==============================] - 1s 30ms/step - loss: 0.0124 - accuracy: 0.9994 - val_loss: 0.5708 - val_accuracy: 0.8658\n",
            "Epoch 3/40\n",
            "30/30 [==============================] - 1s 29ms/step - loss: 0.0121 - accuracy: 0.9995 - val_loss: 0.5759 - val_accuracy: 0.8653\n",
            "Epoch 4/40\n",
            "30/30 [==============================] - 1s 30ms/step - loss: 0.0116 - accuracy: 0.9994 - val_loss: 0.5810 - val_accuracy: 0.8646\n",
            "Epoch 5/40\n",
            "30/30 [==============================] - 1s 29ms/step - loss: 0.0112 - accuracy: 0.9995 - val_loss: 0.5876 - val_accuracy: 0.8670\n",
            "Epoch 6/40\n",
            "30/30 [==============================] - 1s 29ms/step - loss: 0.0108 - accuracy: 0.9995 - val_loss: 0.5926 - val_accuracy: 0.8658\n",
            "Epoch 7/40\n",
            "30/30 [==============================] - 1s 29ms/step - loss: 0.0104 - accuracy: 0.9996 - val_loss: 0.5976 - val_accuracy: 0.8650\n",
            "Epoch 8/40\n",
            "30/30 [==============================] - 1s 29ms/step - loss: 0.0100 - accuracy: 0.9996 - val_loss: 0.6017 - val_accuracy: 0.8658\n",
            "Epoch 9/40\n",
            "30/30 [==============================] - 1s 29ms/step - loss: 0.0097 - accuracy: 0.9997 - val_loss: 0.6073 - val_accuracy: 0.8640\n",
            "Epoch 10/40\n",
            "30/30 [==============================] - 1s 29ms/step - loss: 0.0094 - accuracy: 0.9996 - val_loss: 0.6113 - val_accuracy: 0.8655\n",
            "Epoch 11/40\n",
            "30/30 [==============================] - 1s 29ms/step - loss: 0.0090 - accuracy: 0.9997 - val_loss: 0.6166 - val_accuracy: 0.8651\n",
            "Epoch 12/40\n",
            "30/30 [==============================] - 1s 29ms/step - loss: 0.0087 - accuracy: 0.9997 - val_loss: 0.6231 - val_accuracy: 0.8648\n",
            "Epoch 13/40\n",
            "30/30 [==============================] - 1s 28ms/step - loss: 0.0084 - accuracy: 0.9997 - val_loss: 0.6269 - val_accuracy: 0.8641\n",
            "Epoch 14/40\n",
            "30/30 [==============================] - 1s 28ms/step - loss: 0.0082 - accuracy: 0.9997 - val_loss: 0.6311 - val_accuracy: 0.8645\n",
            "Epoch 15/40\n",
            "30/30 [==============================] - 1s 28ms/step - loss: 0.0079 - accuracy: 0.9997 - val_loss: 0.6362 - val_accuracy: 0.8638\n",
            "Epoch 16/40\n",
            "30/30 [==============================] - 1s 29ms/step - loss: 0.0077 - accuracy: 0.9997 - val_loss: 0.6402 - val_accuracy: 0.8642\n",
            "Epoch 17/40\n",
            "30/30 [==============================] - 1s 28ms/step - loss: 0.0073 - accuracy: 0.9997 - val_loss: 0.6472 - val_accuracy: 0.8638\n",
            "Epoch 18/40\n",
            "30/30 [==============================] - 1s 28ms/step - loss: 0.0072 - accuracy: 0.9997 - val_loss: 0.6507 - val_accuracy: 0.8639\n",
            "Epoch 19/40\n",
            "30/30 [==============================] - 1s 28ms/step - loss: 0.0069 - accuracy: 0.9997 - val_loss: 0.6550 - val_accuracy: 0.8638\n",
            "Epoch 20/40\n",
            "30/30 [==============================] - 1s 28ms/step - loss: 0.0067 - accuracy: 0.9997 - val_loss: 0.6593 - val_accuracy: 0.8637\n",
            "Epoch 21/40\n",
            "30/30 [==============================] - 1s 27ms/step - loss: 0.0065 - accuracy: 0.9997 - val_loss: 0.6646 - val_accuracy: 0.8631\n",
            "Epoch 22/40\n",
            "30/30 [==============================] - 1s 28ms/step - loss: 0.0062 - accuracy: 0.9997 - val_loss: 0.6690 - val_accuracy: 0.8630\n",
            "Epoch 23/40\n",
            "30/30 [==============================] - 1s 28ms/step - loss: 0.0060 - accuracy: 0.9997 - val_loss: 0.6745 - val_accuracy: 0.8626\n",
            "Epoch 24/40\n",
            "30/30 [==============================] - 1s 29ms/step - loss: 0.0058 - accuracy: 0.9997 - val_loss: 0.6795 - val_accuracy: 0.8625\n",
            "Epoch 25/40\n",
            "30/30 [==============================] - 1s 28ms/step - loss: 0.0054 - accuracy: 0.9997 - val_loss: 0.6838 - val_accuracy: 0.8624\n",
            "Epoch 26/40\n",
            "30/30 [==============================] - 1s 28ms/step - loss: 0.0053 - accuracy: 0.9997 - val_loss: 0.6877 - val_accuracy: 0.8631\n",
            "Epoch 27/40\n",
            "30/30 [==============================] - 1s 29ms/step - loss: 0.0050 - accuracy: 0.9998 - val_loss: 0.6942 - val_accuracy: 0.8625\n",
            "Epoch 28/40\n",
            "30/30 [==============================] - 1s 29ms/step - loss: 0.0048 - accuracy: 0.9998 - val_loss: 0.6969 - val_accuracy: 0.8625\n",
            "Epoch 29/40\n",
            "30/30 [==============================] - 1s 28ms/step - loss: 0.0047 - accuracy: 0.9998 - val_loss: 0.7024 - val_accuracy: 0.8617\n",
            "Epoch 30/40\n",
            "30/30 [==============================] - 1s 29ms/step - loss: 0.0045 - accuracy: 0.9999 - val_loss: 0.7065 - val_accuracy: 0.8620\n",
            "Epoch 31/40\n",
            "30/30 [==============================] - 1s 29ms/step - loss: 0.0044 - accuracy: 0.9999 - val_loss: 0.7099 - val_accuracy: 0.8628\n",
            "Epoch 32/40\n",
            "30/30 [==============================] - 1s 28ms/step - loss: 0.0042 - accuracy: 0.9999 - val_loss: 0.7149 - val_accuracy: 0.8618\n",
            "Epoch 33/40\n",
            "30/30 [==============================] - 1s 28ms/step - loss: 0.0041 - accuracy: 0.9999 - val_loss: 0.7198 - val_accuracy: 0.8628\n",
            "Epoch 34/40\n",
            "30/30 [==============================] - 1s 28ms/step - loss: 0.0040 - accuracy: 0.9999 - val_loss: 0.7237 - val_accuracy: 0.8621\n",
            "Epoch 35/40\n",
            "30/30 [==============================] - 1s 28ms/step - loss: 0.0040 - accuracy: 0.9999 - val_loss: 0.7280 - val_accuracy: 0.8619\n",
            "Epoch 36/40\n",
            "30/30 [==============================] - 1s 28ms/step - loss: 0.0037 - accuracy: 0.9998 - val_loss: 0.7329 - val_accuracy: 0.8624\n",
            "Epoch 37/40\n",
            "30/30 [==============================] - 1s 28ms/step - loss: 0.0036 - accuracy: 0.9999 - val_loss: 0.7360 - val_accuracy: 0.8616\n",
            "Epoch 38/40\n",
            "30/30 [==============================] - 1s 29ms/step - loss: 0.0034 - accuracy: 0.9999 - val_loss: 0.7420 - val_accuracy: 0.8622\n",
            "Epoch 39/40\n",
            "30/30 [==============================] - 1s 28ms/step - loss: 0.0033 - accuracy: 0.9999 - val_loss: 0.7459 - val_accuracy: 0.8615\n",
            "Epoch 40/40\n",
            "30/30 [==============================] - 1s 28ms/step - loss: 0.0032 - accuracy: 0.9999 - val_loss: 0.7490 - val_accuracy: 0.8620\n"
          ],
          "name": "stdout"
        }
      ]
    },
    {
      "cell_type": "code",
      "metadata": {
        "id": "7uZPNv8jIeMS",
        "colab_type": "code",
        "colab": {
          "base_uri": "https://localhost:8080/",
          "height": 51
        },
        "outputId": "eb73968b-3620-4bd5-bf16-b4ad47fcc72d"
      },
      "source": [
        "# testing the model\n",
        "\n",
        "results = model.evaluate(test_data, test_labels)\n",
        "print(results)"
      ],
      "execution_count": 38,
      "outputs": [
        {
          "output_type": "stream",
          "text": [
            "782/782 [==============================] - 1s 1ms/step - loss: 0.8018 - accuracy: 0.8477\n",
            "[0.8018378615379333, 0.8477200269699097]\n"
          ],
          "name": "stdout"
        }
      ]
    },
    {
      "cell_type": "code",
      "metadata": {
        "id": "jZuKVkq6IeJQ",
        "colab_type": "code",
        "colab": {
          "base_uri": "https://localhost:8080/",
          "height": 122
        },
        "outputId": "0fccbcd7-6fb4-4af8-be6f-b5de3001d233"
      },
      "source": [
        "# make prediction and compare with actual\n",
        "\n",
        "test_review=test_data[0]\n",
        "predict=model.predict([test_review])\n",
        "\n",
        "print(\"review: \")\n",
        "\n",
        "print(decode_review(test_review))\n",
        "\n",
        "print(\"Prediction \" + str(predict[0]))\n",
        "\n",
        "print(\"Actual \" + str(test_labels[0]))\n",
        "\n",
        "print(results)"
      ],
      "execution_count": 41,
      "outputs": [
        {
          "output_type": "stream",
          "text": [
            "review: \n",
            "<START> please give this one a miss br br <UNK> <UNK> and the rest of the cast rendered terrible performances the show is flat flat flat br br i don't know how michael madison could have allowed this one on his plate he almost seemed to know this wasn't going to work out and his performance was quite <UNK> so all you madison fans give this a miss <PAD> <PAD> <PAD> <PAD> <PAD> <PAD> <PAD> <PAD> <PAD> <PAD> <PAD> <PAD> <PAD> <PAD> <PAD> <PAD> <PAD> <PAD> <PAD> <PAD> <PAD> <PAD> <PAD> <PAD> <PAD> <PAD> <PAD> <PAD> <PAD> <PAD> <PAD> <PAD> <PAD> <PAD> <PAD> <PAD> <PAD> <PAD> <PAD> <PAD> <PAD> <PAD> <PAD> <PAD> <PAD> <PAD> <PAD> <PAD> <PAD> <PAD> <PAD> <PAD> <PAD> <PAD> <PAD> <PAD> <PAD> <PAD> <PAD> <PAD> <PAD> <PAD> <PAD> <PAD> <PAD> <PAD> <PAD> <PAD> <PAD> <PAD> <PAD> <PAD> <PAD> <PAD> <PAD> <PAD> <PAD> <PAD> <PAD> <PAD> <PAD> <PAD> <PAD> <PAD> <PAD> <PAD> <PAD> <PAD> <PAD> <PAD> <PAD> <PAD> <PAD> <PAD> <PAD> <PAD> <PAD> <PAD> <PAD> <PAD> <PAD> <PAD> <PAD> <PAD> <PAD> <PAD> <PAD> <PAD> <PAD> <PAD> <PAD> <PAD> <PAD> <PAD> <PAD> <PAD> <PAD> <PAD> <PAD> <PAD> <PAD> <PAD> <PAD> <PAD> <PAD> <PAD> <PAD> <PAD> <PAD> <PAD> <PAD> <PAD> <PAD> <PAD> <PAD> <PAD> <PAD> <PAD> <PAD> <PAD> <PAD> <PAD> <PAD> <PAD> <PAD> <PAD> <PAD> <PAD> <PAD> <PAD> <PAD> <PAD> <PAD> <PAD> <PAD> <PAD> <PAD> <PAD> <PAD> <PAD> <PAD> <PAD> <PAD> <PAD> <PAD> <PAD> <PAD> <PAD> <PAD> <PAD> <PAD> <PAD> <PAD> <PAD> <PAD> <PAD> <PAD> <PAD> <PAD> <PAD> <PAD> <PAD>\n",
            "Prediction [0.]\n",
            "Actual 0\n",
            "[0.8018378615379333, 0.8477200269699097]\n"
          ],
          "name": "stdout"
        }
      ]
    },
    {
      "cell_type": "code",
      "metadata": {
        "id": "1QkYR1d3Rrs5",
        "colab_type": "code",
        "colab": {}
      },
      "source": [
        "# Now we will save our model and then reuse this for other movie review classification"
      ],
      "execution_count": 47,
      "outputs": []
    },
    {
      "cell_type": "code",
      "metadata": {
        "id": "7hAjvPUGIeFy",
        "colab_type": "code",
        "colab": {}
      },
      "source": [
        "# Saving the Model\n",
        "model.save(\"model.h5\")  # name it whatever you want but end with .h5"
      ],
      "execution_count": 43,
      "outputs": []
    },
    {
      "cell_type": "code",
      "metadata": {
        "id": "qkSYFNchPzk2",
        "colab_type": "code",
        "colab": {}
      },
      "source": [
        "#loading the model\n",
        "\n",
        "model = keras.models.load_model(\"model.h5\")"
      ],
      "execution_count": 44,
      "outputs": []
    },
    {
      "cell_type": "code",
      "metadata": {
        "id": "h8zRo4E1Pz2H",
        "colab_type": "code",
        "colab": {}
      },
      "source": [
        "# Making Predictions\n",
        "# Now it is time to used our saved model to make predictions. Now this is a little bit harder than it looks because we need to consider the following:\n",
        "# – our model accepts integer encoded data\n",
        "# – our model needs reviews that are of length 250 words\n",
        "\n",
        "# This means we can’t just pass any string of text into our model. It will need to be reshaped and reformed to meet the criteria above."
      ],
      "execution_count": 45,
      "outputs": []
    },
    {
      "cell_type": "code",
      "metadata": {
        "id": "6Bezpa5XPz8b",
        "colab_type": "code",
        "colab": {}
      },
      "source": [
        "# Transforming our Data\n",
        "\n",
        "# The data I’ll use for this tutorial will be simple raw text data of a movie review of the lion king"
      ],
      "execution_count": 46,
      "outputs": []
    },
    {
      "cell_type": "code",
      "metadata": {
        "id": "rj_0heGPPzzZ",
        "colab_type": "code",
        "colab": {}
      },
      "source": [
        "# To start we will need to integer encode the data. We will do this using the following function:"
      ],
      "execution_count": 48,
      "outputs": []
    },
    {
      "cell_type": "code",
      "metadata": {
        "id": "GF7KzpWSTnXI",
        "colab_type": "code",
        "colab": {}
      },
      "source": [
        "def review_encode(s):\n",
        "\tencoded = [1]  #starting with 1\n",
        "\n",
        "\tfor word in s:\n",
        "\t\tif word.lower() in word_index:\n",
        "\t\t\tencoded.append(word_index[word.lower()])\n",
        "\t\telse:\n",
        "\t\t\tencoded.append(2)  # if word is not present in word_index it will added as 2 means unknown word\n",
        "\n",
        "\treturn encoded"
      ],
      "execution_count": 49,
      "outputs": []
    },
    {
      "cell_type": "code",
      "metadata": {
        "id": "f__L5QspPzuc",
        "colab_type": "code",
        "colab": {}
      },
      "source": [
        "with open(\"test.txt\", encoding=\"utf-8\") as f:\n",
        "\tfor line in f.readlines():\n",
        "\t\tnline = line.replace(\",\", \"\").replace(\".\", \"\").replace(\"(\", \"\").replace(\")\", \"\").replace(\":\", \"\").replace(\"\\\"\",\"\").strip().split(\" \")\n",
        "# We have replaced all commas or brackets with nothing so that when we split the data based on white spaces, we dont want these unwanted characters included in our data"
      ],
      "execution_count": 50,
      "outputs": []
    },
    {
      "cell_type": "code",
      "metadata": {
        "id": "5MgWkG1vRyVn",
        "colab_type": "code",
        "colab": {}
      },
      "source": [
        "encode = review_encode(nline)  # encode all integer characters and mapping words done"
      ],
      "execution_count": 51,
      "outputs": []
    },
    {
      "cell_type": "code",
      "metadata": {
        "id": "IObhKojFRypT",
        "colab_type": "code",
        "colab": {}
      },
      "source": [
        "encode = keras.preprocessing.sequence.pad_sequences([encode], value=word_index[\"<PAD>\"], padding=\"post\", maxlen=250) # make the data 250 words long"
      ],
      "execution_count": 52,
      "outputs": []
    },
    {
      "cell_type": "code",
      "metadata": {
        "id": "YeaEyHfZRyl5",
        "colab_type": "code",
        "colab": {
          "base_uri": "https://localhost:8080/",
          "height": 428
        },
        "outputId": "034e850c-c640-4129-8c27-8fc04191261e"
      },
      "source": [
        "predict = model.predict(encode)\n",
        "print(line)\n",
        "print(encode)\n",
        "print(predict[0])"
      ],
      "execution_count": 54,
      "outputs": [
        {
          "output_type": "stream",
          "text": [
            "Of all the animation classics from the Walt Disney Company, there is perhaps none that is more celebrated than \"The Lion King.\" Its acclaim is understandable: this is quite simply a glorious work of art.\"The Lion King\" gets off to a fantastic start. The film's opening number, \"The Circle of Life,\" is outstanding. The song lasts for about four minutes, but from the first sound, the audience is floored. Not even National Geographic can capture something this beautiful and dramatic. Not only is this easily the greatest moment in film animation, this is one of the greatest sequences in film history. The story that follows is not as majestic, but the film has to tell a story. Actually, the rest of the film holds up quite well. The story takes place in Africa, where the lions rule. Their king, Mufasa (James Earl Jones) has just been blessed with a son, Simba (Jonathan Taylor Thomas), who goes in front of his uncle Scar (Jeremy Irons) as next in line for the throne. Scar is furious, and sets in motion plans to usurp the throne for himself. After a tragedy occurs and Mufasa is killed, Scar persuades Simba to flee, leaving himself as king. Simba grows up in exile, but he learns that while he can run away from his past, he can never escape it. When viewing the film, it is obvious that \"The Lion King\" is quite different from its predecessors (and successors). This is an epic story that contains more dramatic power than all the other Disney films combined. While there are definitely some light-hearted moments, there is no denying the dark drama that takes up the bulk of the story. While it could be argued that Disney is the champion of family entertainment, this film is not for the very young. Some of the sequences are very dark and violent, many bordering on frightening, even for the older crowd.The voice actors are terrific. Jonathan Taylor Thomas brings a large dose of innocence to Young Simba. He's mischievous, but also terribly naive. His older counterpart, voiced by Matthew Broderick, equals him. He's older, but no less mature. The voices are so similar that it's almost impossible not to believe that they are the same character at different ages. Perhaps no one could have been better suited for the role of Mufasa than James Earl Jones. His baritone voice gives the Mufasa a quality of great power and wisdom; there is no question that his role is king. As Scar, Jeremy Irons is pitch-perfect. The drawing of the character is villainous, but Irons' vocal work complements the animation to create one of the most memorable, and vicious, villains in Disney history. He's unquestionably evil, but he's also clever, which makes him all the more dangerous. Manipulation, not violence is his greatest weapon. Providing some much needed comic relief are Nathan Lane and Ernie Sabella as Timon and Pumbaa, two other outcasts (a meerkat and a warthog), and Rowan Atkinson as Zazu. While there is definite fun from these characters, neither the actors nor the filmmakers allow them to go over-the-top and destroy the mood of the film.Disney's animated features are known for their gorgeous artwork. Nowhere is this more apparent than in \"The Lion King.\" Every single frame is jaw-dropping. The colors are rich, and the drawings are sharp and beautiful. One of the pitfalls of animation (both computer and hand-drawn) is that there is sometimes a visible distance between the subject and the background, making it seem as if the figure animation was cut and pasted on the background (this is obviously what happens, but it is up to the artists to make sure that it isn't noticeable). There is none of that here.Throughout the Golden Age of Disney animation, the films have been musicals. \"The Lion King\" is no different, and the songs are brilliant. All of the numbers are standouts (\"Can You Feel the Love Tonight\" won the Oscar, but in my opinion, \"The Circle of Life\" was better). In the cases of Simba and Nala (Simba's girlfriend), both young and old, there is a noticeable difference between the speaking and singing parts (everyone else does their own singing and speaking), but never mind. It still works, and that's what's important.\"The Lion King\" is not flawless, but on first viewing, they aren't noticeable, and it is likely that the young won't ever notice them. \"Beauty and the Beast\" was the first animated film to get an Oscar nomination for Best Picture (it lost to \"The Silence of the Lambs\"), and is thus far the only animated film to receive such an honor. That being the case, it's hard to understand why \"The Lion King\" was not given the same distinction. The two films are more or less equal in quality, and the nominees for the honor that year were not strong. If you haven't already, see \"The Lion King.\" You won't be disappointed.\n",
            "[[    6  4687  3744   200     4   875     5     4   978   231    12   306\n",
            "     17    48     4   822   748    16   605     5 12625    23     4   978\n",
            "     14     9   540    51   571    21    12     9    56     8     4  2719\n",
            "      8    97   252    15    12   218  6456    50     9   600     7    15\n",
            "      2     4  2050   559     7   910   748     4   108    28    77  2769\n",
            "      4  3082   711     9    57   275     5     4   690    26   530    32\n",
            "      7     4  1396    26 16015    70    25   235     4   119  4487  1199\n",
            "      4   735    21    11    61   652     4  4246     7   113    16   128\n",
            "     11     4  2936     7 10539     5 35738 20403   980   199   185     5\n",
            "    154    50     9     6  6456  1474   200     4  1386     5  1118   531\n",
            "    316   334   127    68   205  1118     5  1386    21   115   330    12\n",
            "    131   495     5   198   803     2  3082   711     9    24  3562    21\n",
            "     23    86   829    36   713  6456     5    12     9  1329    15     4\n",
            "    185   528   126  1495    98   936     5     4  2773    16     4    86\n",
            "   1125    22     8    79    35   735  4372    18   118   431    12   416\n",
            "      8     4  3542     7     4 10721     5     9  1346   230     4    64\n",
            "   1125    22     8  3911   141    35  2898    15   112     4   420    45\n",
            "    254     8   391   138     4  3082   711    16    24   348     4   172\n",
            "   8076     4   107   108    26    53    42   329  3215    11   489     5\n",
            "      4 13341    18     4  2898    15   291    71    24   565    48    25\n",
            "    774   460    67     4  3082   711    25   528    30   685]]\n",
            "[0.91459614]\n"
          ],
          "name": "stdout"
        }
      ]
    },
    {
      "cell_type": "code",
      "metadata": {
        "id": "HuHnHXvgRyfj",
        "colab_type": "code",
        "colab": {}
      },
      "source": [
        "# This result [0.91459614] is showing that reviw is positive"
      ],
      "execution_count": 55,
      "outputs": []
    },
    {
      "cell_type": "code",
      "metadata": {
        "id": "3-1Hs7wXRybS",
        "colab_type": "code",
        "colab": {}
      },
      "source": [
        ""
      ],
      "execution_count": null,
      "outputs": []
    },
    {
      "cell_type": "code",
      "metadata": {
        "id": "BvwX1kGSPzrB",
        "colab_type": "code",
        "colab": {}
      },
      "source": [
        ""
      ],
      "execution_count": null,
      "outputs": []
    },
    {
      "cell_type": "code",
      "metadata": {
        "id": "g3A6126zPzg1",
        "colab_type": "code",
        "colab": {}
      },
      "source": [
        ""
      ],
      "execution_count": null,
      "outputs": []
    },
    {
      "cell_type": "code",
      "metadata": {
        "id": "bW3Fo1U2IeBL",
        "colab_type": "code",
        "colab": {}
      },
      "source": [
        ""
      ],
      "execution_count": null,
      "outputs": []
    },
    {
      "cell_type": "code",
      "metadata": {
        "id": "oAExdh_lBbXk",
        "colab_type": "code",
        "colab": {}
      },
      "source": [
        ""
      ],
      "execution_count": null,
      "outputs": []
    },
    {
      "cell_type": "code",
      "metadata": {
        "id": "ZiUZMS6vBbOg",
        "colab_type": "code",
        "colab": {}
      },
      "source": [
        ""
      ],
      "execution_count": null,
      "outputs": []
    }
  ]
}